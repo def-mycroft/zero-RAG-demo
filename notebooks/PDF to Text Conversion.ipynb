{
 "cells": [
  {
   "cell_type": "code",
   "execution_count": 1,
   "id": "8c805c66-ff46-4de2-a861-20400366af4f",
   "metadata": {},
   "outputs": [],
   "source": [
    "%load_ext autoreload\n",
    "%autoreload 2"
   ]
  },
  {
   "cell_type": "code",
   "execution_count": 2,
   "id": "ec100175-99a5-4be3-8018-a874f66ea29e",
   "metadata": {},
   "outputs": [],
   "source": [
    "from zero_rag.imports import *\n",
    "from zero_rag.helpers import pdf_to_text"
   ]
  },
  {
   "cell_type": "code",
   "execution_count": 7,
   "id": "266a9256-e5f2-4a1c-be19-3ffae9bb2c4b",
   "metadata": {},
   "outputs": [
    {
     "name": "stdout",
     "output_type": "stream",
     "text": [
      "wrote file '/l/gds/report-raw-pdfs-panoramic-chart/googl.txt'\n",
      "wrote file '/l/gds/report-raw-pdfs-panoramic-chart/nvda.txt'\n",
      "wrote file '/l/gds/report-raw-pdfs-panoramic-chart/msft.txt'\n",
      "wrote file '/l/gds/report-raw-pdfs-panoramic-chart/aapl.txt'\n"
     ]
    }
   ],
   "source": [
    "files = glob('/l/gds/report-raw-pdfs-panoramic-chart/*pdf')\n",
    "for fp in files:\n",
    "    pdf_to_text(fp, verbose=True)"
   ]
  },
  {
   "cell_type": "code",
   "execution_count": null,
   "id": "9f988cf0-2b1f-4596-99b1-f1040ede6d6b",
   "metadata": {},
   "outputs": [],
   "source": []
  },
  {
   "cell_type": "code",
   "execution_count": null,
   "id": "df6e1960-710d-4a16-83e6-265e3bf80804",
   "metadata": {},
   "outputs": [],
   "source": []
  },
  {
   "cell_type": "code",
   "execution_count": null,
   "id": "35039335-8272-4f1f-b561-4213a4e8801f",
   "metadata": {},
   "outputs": [],
   "source": []
  },
  {
   "cell_type": "code",
   "execution_count": null,
   "id": "17089041-f5e2-4595-a851-a5d23cba2f74",
   "metadata": {},
   "outputs": [],
   "source": []
  }
 ],
 "metadata": {
  "kernelspec": {
   "display_name": "Python 3 (ipykernel)",
   "language": "python",
   "name": "python3"
  },
  "language_info": {
   "codemirror_mode": {
    "name": "ipython",
    "version": 3
   },
   "file_extension": ".py",
   "mimetype": "text/x-python",
   "name": "python",
   "nbconvert_exporter": "python",
   "pygments_lexer": "ipython3",
   "version": "3.12.2"
  }
 },
 "nbformat": 4,
 "nbformat_minor": 5
}
