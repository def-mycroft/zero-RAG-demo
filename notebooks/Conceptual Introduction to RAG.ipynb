{
 "cells": [
  {
   "cell_type": "markdown",
   "id": "b53132f9-3766-4a55-859b-c34a20414fe2",
   "metadata": {},
   "source": [
    "# Introduction: The Conceptual What and Why of RAG"
   ]
  },
  {
   "cell_type": "markdown",
   "id": "1c224439-c2d1-4fb0-beb5-762d04fd7c5b",
   "metadata": {},
   "source": [
    "Large language models like ChatGPT can process large quantities of text practically instantly. However, there are still limits to how much information can be given to ChatGPT with the context of a conversation. As of this writing, ChatGPT's flagship GPT-4o model can receive a maximum of about 125,000 words$^1$. \n",
    "\n",
    "This quantity of words, 125,000, is roughly equivalent to that of a book. This is ample capacity for many use cases, but what if you want to use ChatGPT to analyze the text equivalent of *an entire bookshelf* of books? \n",
    "\n",
    "We can't feed the text equivalent of an entire bookshelf of books to ChatGPT because of the aforementioned technical limitation, but we can *select relevant subsets of the text and give these subsets to ChatGPT*. This describes Retrieval Augmented Generation (RAG). \n",
    "\n",
    "The purpose of this document is to demonstrate a use case for RAG and to do so in a manner which abstracts from specific technical details. I've authored classes and methods which implement these specific technical aspects, but I'll mostly keep the code in the `.py` files (which are included in this repository) and focus on the conceptual overview of RAG here. "
   ]
  },
  {
   "cell_type": "markdown",
   "id": "bc0b48be-64c2-4c5f-a69f-baf4007d8af2",
   "metadata": {},
   "source": [
    "# The Corpus: 10-Q Corporate Earnings Reports"
   ]
  },
  {
   "cell_type": "markdown",
   "id": "b631102c-fbb7-4b3d-9589-83cf46963613",
   "metadata": {},
   "source": [
    "In this project, we'll demonstrate RAG using a corpus of corporate quarterly reports, in the form of PDF documents. \n",
    "\n",
    "Large publicly traded corporations are required by US law to make public a series of annual and quarterly reports. One such report is the 10-Q, which gives a comprehensive overview of financial performance and operations over a given three month period. The 10-Q report includes numerical accounting data, such as income and cash flow statements, as well as management's discussion of the quarter's results. [Here](https://drive.google.com/file/d/1NYVFl_wz9FjFRopKOpQ6a8LBN7adoZ-f/view?usp=sharing) is an example of a 10-Q. \n",
    "\n",
    "Of course, the standardized accounting data that is included in the 10-Q is of great interest to investors, but anyone who has followed stock market investments closely would know very well that comments made by management in earnings reports can often be more impactful than the accounting data. Investors scrutinize management comments in order to better understand the current and future realities of the company. \n",
    "\n",
    "Management's comments in quarterly reports can be used to analyze a particular company. Furthermore, such commentary from a group of companies can be used to analyze a particular industry or to analyze the entire economy. People who manage large companies likely know a few things about the world! \n",
    "\n",
    "However, it is a massive investment of time and energy to read hundreds of very large documents every quarter; and at the same time it isn't technically possible to send hundreds of thousands of words of text to the ChatGPT API. \n",
    "\n",
    "Therefore, we have the perfect use case for RAG: a collection of text that we want to analyze that is too large to be sent to ChatGPT in a single instance. \n",
    "\n",
    "I've manually downloaded the latest 10-Q reports for 35 of the largest S&P 500 companies; and used `PyPDF2` to extract the text from these PDFs. These won't be from exactly the same period of time, because of complexities in fiscal calenders and reporting dates, but these reports will all be from the last 6 months of 2024."
   ]
  },
  {
   "cell_type": "markdown",
   "id": "e4d71106-ebb8-4105-92a4-8d88ce690b62",
   "metadata": {},
   "source": [
    "# The Retrieval Part of RAG\n",
    "\n",
    "Now that we have a dataset and an conceptual idea of how we intend to use RAG, let's continue with a research question in mind: *what things did managers of these companies said about supply chain concerns in this quarter?*\n",
    "\n",
    "To answer this question, we're going to want to look for certain paragraphs in the 10-Q reports that discuss supply chain dynamics. \n",
    "\n",
    "I've authored a class `TextHandler` which makes possible the \"retrieval\" part of RAG. As a preprocessing step, methods on this class decompose the given documents into groups of text, each group about 1,000 words, and then stores these text snippets in a way that allows for retrieving only the ones relevant to a given question.\n",
    "\n",
    "This is the central idea of RAG - we create a way of efficiently searching for subsets of the larger corpus that are relevant to a given question and these subsets will be sent to ChatGPT."
   ]
  },
  {
   "cell_type": "code",
   "execution_count": 4,
   "id": "1911b476-a9d2-4f7e-9878-59ddc7c68ef5",
   "metadata": {},
   "outputs": [],
   "source": [
    "from zero_rag.text_handler import TextHandler"
   ]
  },
  {
   "cell_type": "markdown",
   "id": "a4447456-1b03-4a21-ace7-07307cc5a5a9",
   "metadata": {},
   "source": [
    "I designed the `TextHandler` class to apply these preprocessing steps to the corpus upon instantiation. The corpus is broken up into chunks of 1,000 words, these chunks are turned into a vector format (also called \"embedding\"), which allows for comparing the text chunks to the given question, and these vectors are indexed for fast retrieval. \n",
    "\n",
    "A quick conceptual explanation of vectorization in this context: each paragraph is turned into a vector. Think of these vectors as each a list of numbers. When we ask a question, the text of the question will be vectorized in exactly the same way. Then, the vectorized question is compared to the vectorized paragraphs from the corpus, and the most similar paragraphs are returned. Numerical similarity of these vectors corresponds to textual similarity of different chunks of text. \n",
    "\n",
    "Put shortly, vectorization allows for evaluating similarity between strings of text. OpenAI makes available a function that accomplishes this vector embedding. This and other steps cost time and money, so `TextHandler` saves the embedding so that this step is only done once:"
   ]
  },
  {
   "cell_type": "code",
   "execution_count": 3,
   "id": "e4172927-c386-4725-bab4-ec389ea487d9",
   "metadata": {},
   "outputs": [
    {
     "name": "stdout",
     "output_type": "stream",
     "text": [
      "do not have embeddings, re-creating (probably desirable). \n",
      "wrote '/l/pdfs/txt/embeddings.pkl'\n",
      "CPU times: user 7.8 s, sys: 217 ms, total: 8.02 s\n",
      "Wall time: 10min 54s\n"
     ]
    }
   ],
   "source": [
    "%%time\n",
    "retriever = TextHandler(path_text_input='/l/pdfs/txt/')"
   ]
  },
  {
   "cell_type": "markdown",
   "id": "5b818d64-a6ae-4827-a43c-af43848a0a2d",
   "metadata": {},
   "source": [
    "Now we have an instance of `TextHandler` assigned to the variable `retriever`. \n",
    "\n",
    "Here is our research question:"
   ]
  },
  {
   "cell_type": "code",
   "execution_count": 5,
   "id": "ff857f72-ee6e-47ec-b9a8-3c5681b95f24",
   "metadata": {},
   "outputs": [],
   "source": [
    "question = 'what things did managers of these companies said about supply chain concerns in this quarter?'"
   ]
  },
  {
   "cell_type": "markdown",
   "id": "612f151f-234c-4f51-9998-eb2be3a0df50",
   "metadata": {},
   "source": [
    "...we use the `retrieve_relevant_chunks` method to return three paragraphs that are most similar to the given question:"
   ]
  },
  {
   "cell_type": "code",
   "execution_count": 6,
   "id": "34f7c76f-383a-48e3-bc53-31ed40af8e36",
   "metadata": {},
   "outputs": [],
   "source": [
    "sample_chunks = retriever.retrieve_relevant_chunks(question, n=3)"
   ]
  },
  {
   "cell_type": "markdown",
   "id": "52480311-9d23-47c3-bd1c-0f135336c679",
   "metadata": {},
   "source": [
    "...we're just going to collect the three most similar paragraphs for demonstration. Later we'll collect a large number of paragraphs. \n",
    "\n",
    "Here is the first result:"
   ]
  },
  {
   "cell_type": "code",
   "execution_count": 7,
   "id": "7a8d2a97-593f-41af-87cd-8a7aafb48018",
   "metadata": {},
   "outputs": [
    {
     "name": "stdout",
     "output_type": "stream",
     "text": [
      " reliance on any such forwar d-looking statements, which speak only as of the date they are made. We undertake no obligation to update any forwar d-looking statement, whether as a r esult of new information, futur e events or otherwise. Risks Associated with Commodities and Our Supply Chain During the 12 and 36 weeks ended September 7, 2024, we continued to experience higher operating costs, including on transportation and labor costs, which may continue for the remainder of 2024. Many of the commodities used in the production and transportation of our products are purchased in the open market. The prices  we pay for such items are subject to fluctuation, and we manage this risk through the use of fixed-price contracts and purchase orders, pricing agreements and derivative instruments, including swaps and futures. A number of external factors, including the ongoing conflict in Ukraine, the inflationary cost environment, adverse weather conditions, supply chain disruptions and labor shortages, have impacted and 28Table of Contents     may conti nue to impact transportation and labor costs. When prices increase, we may or may not pass on such increases to our customers, which may result in reduced volume, revenue, mar gins and operating results. See Note  9 to our condensed consolidated financial statements in this Form 10-Q and Note 9 to our consolidated financial statements in our 2023 Form 10-K for further information on how we manage our exposure to commodity prices. Risks Associated with Climate Change Certain jurisdictions in which our produ cts are made, manufactured, distributed or sold have either imposed, or are considering imposing, new or increased legal and regulatory requirements to reduce or mitigate the potential effects of climate change, including regulation of greenhouse gas emissions and potential carbon pricing programs. These new or increased legal or regulatory requirements, along with initiatives to meet our sustainability goals, could result in significant increased costs and additional investmen ts in facilities and equipment. However , we are unable to predict the scope, nature and timing of any new or increased environme ntal laws and regul ations and therefore cannot predict the ultimate impact of such laws and regulations on our business or financial results. We continue to monitor existing and proposed laws and regulations in the jurisdictions in which our products are made, manufactured, distributed and sold and to consider actions we may take to potentially mitigate the unfavorable impact, if any , of such laws or regulations. Risks Associated with International Operations In the 12 weeks ended September 7, 2024, our financial results outside of North America reflect the months of June, July and August. In the 36 weeks ended September 7, 2024, our financial results outside  of North America reflect the months of January through August. In the 36 weeks ended  September 7, 2024, our operations outside of the United St\n"
     ]
    }
   ],
   "source": [
    "print(sample_chunks[1].replace('\\n', ' ')[:3000])"
   ]
  },
  {
   "cell_type": "markdown",
   "id": "ded7206b-586f-4b7b-9ef3-3a06a0559349",
   "metadata": {},
   "source": [
    "...the formatting has been lost (due to the way that the text was extracted from the PDFs) and the text has been cut off in the middle of sentences. However, ChatGPT will likely still be able to get the relevant ideas, and especially when spanning many such paragraphs. \n",
    "\n",
    "I've written code that allows for programatically interacting with ChatGPT. The code is available in this repository, but we'll just use the code here without getting into the details of it. It is fundamentally similar to the ChatGPT web app in the sense that we send a question and get a response.\n",
    "\n",
    "We want to verify that these paragraphs are indeed relevant to supply chain concerns. Let's use ChatGPT to summarize the three paragraphs that were retrieved above:"
   ]
  },
  {
   "cell_type": "code",
   "execution_count": 8,
   "id": "99e80b8c-b3c3-4302-b0ea-124059ef4def",
   "metadata": {},
   "outputs": [],
   "source": [
    "from zero_rag import chatgpt_convo as chat"
   ]
  },
  {
   "cell_type": "code",
   "execution_count": 9,
   "id": "f21b7052-ec8f-4c86-ad56-938b177bafa2",
   "metadata": {},
   "outputs": [
    {
     "name": "stdout",
     "output_type": "stream",
     "text": [
      "The text discusses the challenges faced by a company due to non-linear sales patterns, manufacturing issues, and supply chain disruptions, which can result in unpredictable revenue and operating results from quarter to quarter. Large orders and their timing further complicate revenue forecasting, as they can significantly impact operating results depending on when they are recognized as revenue. The company also faces risks related to inventory and purchase commitments that could lead to excess or obsolete inventory if demand decreases, and it is heavily reliant on contract manufacturers and suppliers, making it vulnerable to supply chain issues and financial problems within the supply chain.\n",
      "\n",
      "\n",
      "The text discusses several risks and challenges the company faces, including higher operating costs and commodity price fluctuations due to factors like the Ukraine conflict and inflation. Climate change regulations may also lead to increased costs, and the company is monitoring potential impacts. Additionally, the company faces foreign exchange risks and operational challenges in international markets due to economic and geopolitical instability, impacting net revenue and requiring adjustments in their operations.\n",
      "\n",
      "\n",
      "The text discusses the challenges a company may face due to supply chain disruptions, specifically focusing on component shortages that could impact business operations and financial performance. These disruptions could arise from economic factors, supplier constraints, or geopolitical issues, leading to increased component costs, longer lead times, and potential difficulties in meeting customer demands. The company also highlights the pressure to accurately forecast component demand and the risks associated with relying on single or limited suppliers, especially during economic downturns, which could affect manufacturing capacity and overall sales.\n",
      "\n",
      "\n"
     ]
    }
   ],
   "source": [
    "base_message = 'In about three sentences, summarize this text: '\n",
    "\n",
    "for paragraph in sample_chunks:\n",
    "    convo = chat.init_convo()\n",
    "    message = f\"{base_message} {paragraph}\"\n",
    "    convo, reply = chat.new_message(message, convo, model='gpt-4o')\n",
    "    print(reply)\n",
    "    print('\\n')"
   ]
  },
  {
   "cell_type": "markdown",
   "id": "097d3d01-c6c7-43b2-8e2b-289922876394",
   "metadata": {},
   "source": [
    "Looking okay so far! There are some irrelevant concepts included in the paragraphs; but ChatGPT should be able to easily parse this kind of thing out$^2$. \n",
    "\n",
    "Let's modify the question slightly to examine these paragraphs in a different way:"
   ]
  },
  {
   "cell_type": "code",
   "execution_count": 10,
   "id": "263b525d-c0ab-4936-92e0-987a001be88b",
   "metadata": {},
   "outputs": [
    {
     "name": "stdout",
     "output_type": "stream",
     "text": [
      "Challenges in corporate supply chains can cause significant impacts on business operations and financial results. Nonlinear shipping patterns and manufacturing issues can increase operational costs and make revenue forecasting difficult due to periods of underutilized capacity or overtime expenses. A dependency on external manufacturers and suppliers further complicates supply chain management, as financial instability, capacity constraints, or external disruptions can lead to increased costs, delays, or inadequate supply fulfillment, impacting gross margins and operating results.\n",
      "\n",
      "\n",
      "The corporation is experiencing rising operational costs, particularly in transportation and labor, due to fluctuating commodity prices influenced by external factors such as the conflict in Ukraine and inflation. This is managed through fixed-price contracts, pricing agreements, and derivative instruments, but may still impact revenue and operating results if increased costs are not passed on to customers. Additionally, the company faces challenges related to evolving environmental regulations and international market risks, including foreign exchange fluctuations and geopolitical instability, especially in countries like Mexico, Brazil, and Russia.\n",
      "\n",
      "\n",
      "Corporations face significant challenges in managing supply chains, especially due to factors like geopolitical tensions, natural disasters, and inflation, which can disrupt the procurement process and affect business operations. Component shortages, often caused by manufacturing issues or increased demand, have historically led to longer lead times and higher costs, straining the ability to meet customer demands. Companies rely heavily on timely component deliveries from suppliers, but dependence on single or limited sources, particularly during economic downturns, poses risks to product availability and sales.\n",
      "\n",
      "\n"
     ]
    }
   ],
   "source": [
    "base_message = 'In about three sentences, summarize the following text as it pertains corporate supply chains: '\n",
    "\n",
    "for paragraph in sample_chunks:\n",
    "    convo = chat.init_convo()\n",
    "    message = f\"{base_message} {paragraph}\"\n",
    "    convo, reply = chat.new_message(message, convo, model='gpt-4o')\n",
    "    print(reply)\n",
    "    print('\\n')"
   ]
  },
  {
   "cell_type": "markdown",
   "id": "9925c3cf-a26c-467f-a713-fabab9ce1f2f",
   "metadata": {},
   "source": [
    "Okay! It appears that the retrieved paragraphs are actually discussing supply chain concerns. Let's now get an answer to our research question!"
   ]
  },
  {
   "cell_type": "markdown",
   "id": "020c86b2-66cc-4806-a412-ca47bd7ec3ae",
   "metadata": {},
   "source": [
    "# The Generative Part of RAG\n",
    "\n",
    "Now we'll put everything together to generate a robust answer to our research question. We'll do a little bit of prompt engineering for the purpose of getting the best possible answer from ChatGPT; also we'll use a cloud of keywords to subset paragraphs:"
   ]
  },
  {
   "cell_type": "code",
   "execution_count": 11,
   "id": "446d6677-5806-4fae-a7e2-b7ac92fb38fc",
   "metadata": {},
   "outputs": [],
   "source": [
    "# words and phrases related to supply chain. \n",
    "keywords = \"\"\"\n",
    "Supply Chain. Logistics management. Inventory optimization. Demand forecasting. Supplier relationships. \n",
    "Procurement strategies. Distribution networks. Warehouse operations. Supply chain analytics. Just-in-time manufacturing. \n",
    "Freight transportation. Vendor management. Order fulfillment. Supply chain resilience. Production planning. \n",
    "Inventory turnover. Global sourcing. Reverse logistics. Supply chain risk management. Cost efficiency. \n",
    "Lead time reduction.\n",
    "\"\"\""
   ]
  },
  {
   "cell_type": "code",
   "execution_count": 12,
   "id": "b5dc024c-af51-4241-a48c-ee2a49573a43",
   "metadata": {},
   "outputs": [
    {
     "name": "stdout",
     "output_type": "stream",
     "text": [
      "Corporate supply chains face challenges from multiple factors, including rising costs of transportation and resources, constrained labor markets, and disruptions due to natural disasters or geopolitical events. The complexity of operating fulfillment networks and data centers increases as businesses expand, with potential risks related to forecasting demand, managing staffing levels, and handling inventory for third parties. Additionally, reliance on a limited number of shipping companies and the impact of labor and environmental issues can negatively affect operations and customer satisfaction.\n",
      "\n",
      "\n",
      "The text highlights several risks related to corporate supply chains. Key concerns include reliance on significant suppliers, some of which are single or limited sources, without long-term agreements to ensure supply stability. Supplier issues, such as bankruptcies, geopolitical events, or unethical practices, could disrupt the supply chain, affecting the company's operations and reputation. Additionally, the complexity and management of commercial agreements and strategic alliances introduce risks related to dependency on infrastructure, third-party services, and financial variability, which can further impact company operations and relationships.\n",
      "\n",
      "\n",
      "The corporate supply chain faces significant challenges, including nonlinear sales patterns and irregular shipment schedules, which can lead to increased costs and difficulty predicting revenue. Factors such as manufacturing issues, component shortages, and longer lead times further complicate supply chain operations, impacting revenue and potentially leading to excess inventory or obsolete components. Dependencies on contract manufacturers and component suppliers heighten risks, as their financial stability and capacity constraints can lead to supply disruptions and increased costs, adversely affecting business operations and financial results.\n",
      "\n",
      "\n"
     ]
    }
   ],
   "source": [
    "# spot check the first three paragraphs again, with expanded keywords. \n",
    "sample_chunks = retriever.retrieve_relevant_chunks(keywords, n=3)\n",
    "\n",
    "base_message = \"\"\"\n",
    "In about three sentences, summarize the following text as it pertains corporate supply chains, ignoring \n",
    "concepts that aren't related to supply chain:\n",
    "\"\"\"\n",
    "\n",
    "for paragraph in sample_chunks:\n",
    "    convo = chat.init_convo()\n",
    "    message = f\"{base_message} {paragraph}\"\n",
    "    convo, reply = chat.new_message(message, convo, model='gpt-4o')\n",
    "    print(reply)\n",
    "    print('\\n')"
   ]
  },
  {
   "cell_type": "markdown",
   "id": "48a0343e-134a-43eb-921a-0eda88b0f6f8",
   "metadata": {},
   "source": [
    "...using a large number of keywords seems to improve the relevence of paragraphs. Let's get a larger number of paragraphs:"
   ]
  },
  {
   "cell_type": "code",
   "execution_count": 13,
   "id": "5b34c419-ed4c-4584-951f-89fa9d7ac52c",
   "metadata": {},
   "outputs": [],
   "source": [
    "# get the 100 paragraphs that are most similar to the keyword cloud\n",
    "paragraphs = retriever.retrieve_relevant_chunks(keywords, n=100)"
   ]
  },
  {
   "cell_type": "code",
   "execution_count": 14,
   "id": "10f8865e-73d1-475a-8602-767790a9ca57",
   "metadata": {},
   "outputs": [
    {
     "data": {
      "text/plain": [
       "100"
      ]
     },
     "execution_count": 14,
     "metadata": {},
     "output_type": "execute_result"
    }
   ],
   "source": [
    "len(paragraphs)"
   ]
  },
  {
   "cell_type": "code",
   "execution_count": 15,
   "id": "00c5d295-c768-4ed1-b1b5-c9bedb87899f",
   "metadata": {},
   "outputs": [],
   "source": [
    "prompt = \"\"\"\n",
    "I'm macroeconomic analyst at a large hedge fund. I need to identify current trends and factors that impact \n",
    "supply chains for a given basket of public companies. In this project, I'm not interested in the dynamics \n",
    "of the individual companies per se; I want to analyze management comments about supply chain dynamics with the \n",
    "desire to identify large macro factors that impact the entire economy. \n",
    "\n",
    "The following are snippets of text taken from the most recent 10-Q report for a selection of publicly \n",
    "traded companies. Note that these paragraphs may contain a lot of information that isn't related to supply chain \n",
    "dynamics, i.e. it will be your task to identify concepts that are pertinent. I'm especially focused on management \n",
    "comments which are contextual to the most recent quarter and the upcoming year. \n",
    "\n",
    "Analyze these paragraphs and return a SWOT analysis of the supply chain aspects of these companies. \n",
    "One paragraph for each of Strengths, Weaknesses, Opportunities and Threats. \n",
    "\n",
    "The following are the aforementioned paragraphs: \n",
    "\"\"\"\n",
    "prompt = f\"{prompt} {'---'.join(paragraphs)}\""
   ]
  },
  {
   "cell_type": "code",
   "execution_count": 16,
   "id": "356520a4-e2b0-418e-a166-024a0d76f091",
   "metadata": {},
   "outputs": [
    {
     "name": "stdout",
     "output_type": "stream",
     "text": [
      "A SWOT analysis of the supply chain aspects of the selection of publicly traded companies mentioned in the 10-Q report snippets can be summarized as follows:\n",
      "\n",
      "**Strengths:**\n",
      "1. **Technological Investments:** Companies are heavily investing in technology and infrastructure, including AI and machine learning, which can streamline supply chain processes and improve efficiency.\n",
      "2. **Diverse Global Operations:** The presence in multiple international markets provides a broad supply base and potentially diverse sources for procurement and production, allowing for risk mitigation.\n",
      "3. **Flexibility in Operations:** Many companies exhibit strong operational flexibility, maintaining various agreements with third-party logistics providers and allowing them to adapt to changes in demand or supply chain disruptions.\n",
      "4. **Brand Reputation:** Strong brands and a focus on customer service can enhance negotiation power with suppliers and logistics partners, as well as ensuring customer loyalty even in times of supply chain challenges.\n",
      "\n",
      "**Weaknesses:**\n",
      "1. **Supplier Dependency:** A heavy reliance on a limited number of suppliers, particularly in critical components such as semiconductors, exposes companies to supply chain disruptions.\n",
      "2. **Supply Chain Complexity:** The growing complexity of multi-national supply chains, especially with regulatory and compliance requirements, increases vulnerability to operational breakdowns.\n",
      "3. **Inventory Management Challenges:** Fluctuations in demand have led to challenges in inventory management, resulting in periods of excess or insufficient capacity, impacting profitability.\n",
      "4. **High Fulfillment Costs:** Rising labor and shipping costs, partially driven by constrained labor markets and increased demand for quick delivery, pressure margins and operational costs.\n",
      "\n",
      "**Opportunities:**\n",
      "1. **Supply Chain Innovation:** The adoption of advanced technologies such as AI, blockchain, and IoT presents an opportunity to optimize supply chains for better efficiency and reliability.\n",
      "2. **Sustainability Initiatives:** Increasing focus on sustainability offers opportunities for companies to innovate in packaging, sourcing, and manufacturing processes, potentially reducing costs and meeting consumer demand for environmentally friendly products.\n",
      "3. **Localization Strategies:** Developing localized supply chains can reduce dependency on global movements and mitigate risks associated with geopolitical tensions and global supply chain crises.\n",
      "4. **Partnerships and Collaborations:** Strategic alliances and partnerships, including with technology providers, can enhance capabilities in supply chain management, providing a competitive edge.\n",
      "\n",
      "**Threats:**\n",
      "1. **Geopolitical Tensions:** Political instability, trade wars, and sanctions create uncertainties that can disrupt critical supply chains and increase costs.\n",
      "2. **Regulatory Changes:** Increasing regulations, including those related to data privacy, taxation, and environmental standards, can increase compliance costs and disrupt operations if not managed proactively.\n",
      "3. **Global Economic Conditions:** Recessions, inflationary pressures, and changes in consumer spending can significantly impact supply chain dynamics, increasing the cost of goods sold and reducing margins.\n",
      "4. **Cybersecurity Risks:** As supply chains become more digital, the risk of cyberattacks increases, potentially leading to disruptions, data breaches, and financial losses.\n",
      "\n",
      "This SWOT analysis highlights key areas where companies can focus to enhance their supply chain resilience and capitalize on emerging opportunities while acknowledging the inherent challenges and threats in the current global business environment.\n"
     ]
    }
   ],
   "source": [
    "convo = chat.init_convo()\n",
    "convo, reply = chat.new_message(prompt, convo, model='gpt-4o')\n",
    "print(reply)"
   ]
  },
  {
   "cell_type": "markdown",
   "id": "ee9a0801-8be6-420a-8e47-4bff58183cc8",
   "metadata": {},
   "source": [
    "Okay! We now have what appears to be, superficially, a fairly good analysis of corporate supply chains based on the quarterly reports. "
   ]
  },
  {
   "cell_type": "markdown",
   "id": "51e72087-ebaa-4aa0-815e-51383e8d9383",
   "metadata": {},
   "source": [
    "# Evaluating the Results"
   ]
  },
  {
   "cell_type": "markdown",
   "id": "2623778d-66b3-486d-bc90-e640e518bede",
   "metadata": {},
   "source": [
    "So, we now have an analysis, and one which appears to be a decent one. But, how do we know that the text generated by ChatGPT is actually representative of the input text, perhaps ChatGPT is hallucinating? \n",
    "\n",
    "Ideally, there would be a hard quantitative method of evaluting the quality of the output. However, both the output of and inputs to this process are qualitative in nature; therefore evaluating the utility of the results will have to be qualitative as well. \n",
    "\n",
    "The first step in evaluation should be to merely read through some of the input documents to get a sense of what information is actually there and then compare to the SWOT analysis. Similarly, in a real-world application, there would likely be an internal subject matter expert who would be primed to spot any inaccuracies with the SWOT analysis. This approach is relatively easy to implement and would likely spot any broad and obvious issues; but it suffers from a lack of breadth. There are only around 35 10-Q reports in this project, but consider how costly it would be to manually span hundreds or thousands of large documents. \n",
    "\n",
    "A more robust option for evaluating the accuracy of the output of this process would be to modify the code to utilize the outputs of multiple LLMs; then the consensus (or lack thereof) would provide some insight. If a few different LLMs arrive at a similar conclusion, then we could have some degree of confidence in the quality of the output. However, the downsides of this approach include the possibility that multiple LLMs could be making similar mistake and, alternatively, different LLMs might arrive at substantially different outputs, given the same inputs. \n",
    "\n",
    "In conclusion, we can evaluate the output through manual review or seeking consensus between multiple LLMs; but these methods have significant limitations. Ultimately, the only truly valid test is to put the tool into the hands of subject matter experts for them to determine the utility of the project. In this hypothetical, we'd ideally be communicating closely with subject matter experts from the beginning of the project and allow them to start using it, given that there is a mutual understanding that the project is being launched in an experimental status and that there is always much that can be done to impove it. "
   ]
  },
  {
   "cell_type": "markdown",
   "id": "ce3ce474-4799-4a65-9034-b183fb436b93",
   "metadata": {},
   "source": [
    "# Footnotes"
   ]
  },
  {
   "cell_type": "markdown",
   "id": "948eed48-47eb-48b6-9dfc-32e8ce31ad4a",
   "metadata": {},
   "source": [
    "\\[1\\]: OpenAI's ChatGPT API defines the length of this context in terms of \"tokens\". Conceptually, tokens can be thought of as word, however in reality tokens are defined slightly differently than words.\n",
    "\n",
    "\\[2\\]: Note that the paragraphs don't necessarily include any information about what company the paragraph is discussing. This was planned in this project, as the idea is to analyze dynamics that are impacting many of the companies included in the corpus. "
   ]
  }
 ],
 "metadata": {
  "kernelspec": {
   "display_name": "Python 3 (ipykernel)",
   "language": "python",
   "name": "python3"
  },
  "language_info": {
   "codemirror_mode": {
    "name": "ipython",
    "version": 3
   },
   "file_extension": ".py",
   "mimetype": "text/x-python",
   "name": "python",
   "nbconvert_exporter": "python",
   "pygments_lexer": "ipython3",
   "version": "3.12.2"
  }
 },
 "nbformat": 4,
 "nbformat_minor": 5
}
