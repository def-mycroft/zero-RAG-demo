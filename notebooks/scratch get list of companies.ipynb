{
 "cells": [
  {
   "cell_type": "code",
   "execution_count": 5,
   "id": "54b4e702-a481-4e51-ab0a-e42fd1fc08e8",
   "metadata": {},
   "outputs": [],
   "source": [
    "from zero_rag.imports import *"
   ]
  },
  {
   "cell_type": "code",
   "execution_count": 12,
   "id": "164a75dd-88c2-4d23-9865-db49b7c19e85",
   "metadata": {},
   "outputs": [
    {
     "name": "stdout",
     "output_type": "stream",
     "text": [
      "/l/gds/panoramic-chart-486dc3f0.csv\n"
     ]
    }
   ],
   "source": [
    "fp = '/l/tmp/flat-ui__data-Thu Jan 09 2025.csv'\n",
    "df = pd.read_csv(fp)\n",
    "df.columns = [x.lower().replace(' ', '_').replace('/', '_') for x in df.columns]\n",
    "df = df.sort_values(by=['market_cap'], ascending=False).reset_index(drop=True)\n",
    "\n",
    "fp = '/l/gds/panoramic-chart-486dc3f0.csv'\n",
    "df.to_csv(fp, index=False)\n",
    "print(fp)"
   ]
  },
  {
   "cell_type": "code",
   "execution_count": 13,
   "id": "b8734ad2-2f74-43f8-a6e6-db03665f7e56",
   "metadata": {},
   "outputs": [],
   "source": [
    "df.head(30).to_clipboard()"
   ]
  },
  {
   "cell_type": "code",
   "execution_count": null,
   "id": "950d62bd-a885-4bce-b968-b8b5d6dfc534",
   "metadata": {},
   "outputs": [],
   "source": []
  },
  {
   "cell_type": "code",
   "execution_count": null,
   "id": "cdcab3e7-2a26-491e-95ee-a51c9b789e0a",
   "metadata": {},
   "outputs": [],
   "source": []
  },
  {
   "cell_type": "code",
   "execution_count": null,
   "id": "6450334d-e41a-49a3-8ecb-e0b22f84b20e",
   "metadata": {},
   "outputs": [],
   "source": []
  },
  {
   "cell_type": "code",
   "execution_count": null,
   "id": "842276d4-216f-41e1-b9f5-47584c9a1ae3",
   "metadata": {},
   "outputs": [],
   "source": []
  },
  {
   "cell_type": "code",
   "execution_count": null,
   "id": "7f33fc1f-7f39-4243-a2b1-318c8d77194f",
   "metadata": {},
   "outputs": [],
   "source": []
  }
 ],
 "metadata": {
  "kernelspec": {
   "display_name": "Python 3 (ipykernel)",
   "language": "python",
   "name": "python3"
  },
  "language_info": {
   "codemirror_mode": {
    "name": "ipython",
    "version": 3
   },
   "file_extension": ".py",
   "mimetype": "text/x-python",
   "name": "python",
   "nbconvert_exporter": "python",
   "pygments_lexer": "ipython3",
   "version": "3.12.2"
  }
 },
 "nbformat": 4,
 "nbformat_minor": 5
}
