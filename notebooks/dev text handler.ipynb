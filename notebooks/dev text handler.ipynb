{
 "cells": [
  {
   "cell_type": "code",
   "execution_count": 22,
   "id": "f3c2bbcf-35e2-4979-8095-adf5cfb0663e",
   "metadata": {
    "scrolled": true
   },
   "outputs": [
    {
     "name": "stdout",
     "output_type": "stream",
     "text": [
      "The autoreload extension is already loaded. To reload it, use:\n",
      "  %reload_ext autoreload\n"
     ]
    }
   ],
   "source": [
    "%load_ext autoreload\n",
    "%autoreload 2"
   ]
  },
  {
   "cell_type": "code",
   "execution_count": 23,
   "id": "7bbc53b0-dc2c-46a8-8413-6b43be2246ee",
   "metadata": {},
   "outputs": [],
   "source": [
    "from zero_rag.imports import *"
   ]
  },
  {
   "cell_type": "code",
   "execution_count": 24,
   "id": "d5606ba5-ced3-48ac-93aa-a7343571b68c",
   "metadata": {},
   "outputs": [],
   "source": [
    "from zero_rag.text_handler import TextHandler"
   ]
  },
  {
   "cell_type": "code",
   "execution_count": 25,
   "id": "e4172927-c386-4725-bab4-ec389ea487d9",
   "metadata": {},
   "outputs": [
    {
     "name": "stdout",
     "output_type": "stream",
     "text": [
      "note that there are archived embeddings. \n",
      "loaded '/l/pdfs/txt/embeddings.pkl'\n"
     ]
    }
   ],
   "source": [
    "t = TextHandler(path_text_input='/l/pdfs/txt/')"
   ]
  },
  {
   "cell_type": "code",
   "execution_count": 26,
   "id": "afdcccdc-57b9-4b0b-b68b-c8c4a08ad4a4",
   "metadata": {},
   "outputs": [],
   "source": [
    "query = 'supply chain'\n",
    "x = t.retrieve_relevant_chunks(query, n=15)"
   ]
  },
  {
   "cell_type": "code",
   "execution_count": 21,
   "id": "545d59c5-09eb-4ddb-a025-f4f73ae34060",
   "metadata": {},
   "outputs": [],
   "source": [
    "with open('/l/tmp/data.txt', 'w') as f:\n",
    "    f.write('\\n'.join(x))"
   ]
  },
  {
   "cell_type": "code",
   "execution_count": 31,
   "id": "9793491d-3763-40d2-baa5-f6f23643b250",
   "metadata": {},
   "outputs": [],
   "source": [
    "from zero_rag import chatgpt_convo as g"
   ]
  },
  {
   "cell_type": "code",
   "execution_count": 32,
   "id": "a8e7a02d-4dc7-492d-8bb4-f4c3127386ca",
   "metadata": {},
   "outputs": [
    {
     "data": {
      "text/plain": [
       "[{'role': 'system', 'content': 'you are a helpful assistant.'}]"
      ]
     },
     "execution_count": 32,
     "metadata": {},
     "output_type": "execute_result"
    }
   ],
   "source": [
    "convo = g.init_convo('you are a helpful assistant.')\n",
    "convo"
   ]
  },
  {
   "cell_type": "code",
   "execution_count": 35,
   "id": "6f868170-f617-4c03-92e3-b4cbe626032d",
   "metadata": {},
   "outputs": [],
   "source": [
    "msg = 'what is the sound of one hand clapping? '\n",
    "convo, reply = g.new_message(msg, convo, model='gpt-4o')"
   ]
  },
  {
   "cell_type": "code",
   "execution_count": 36,
   "id": "cedb584c-01a8-4b44-8f0c-b15546b730d1",
   "metadata": {},
   "outputs": [
    {
     "name": "stdout",
     "output_type": "stream",
     "text": [
      "The question \"What is the sound of one hand clapping?\" is a classic Zen koan, a type of riddle or philosophical question meant to provoke deep thought and reflection. It is not designed to have a straightforward answer, but instead encourages the student to explore concepts like duality, perception, and the nature of sound and silence. The goal is to push the mind beyond conventional thinking to achieve greater insight or enlightenment.\n"
     ]
    }
   ],
   "source": [
    "print(reply)"
   ]
  },
  {
   "cell_type": "code",
   "execution_count": null,
   "id": "1aec7733-f0b8-49d2-a200-512774fa6028",
   "metadata": {},
   "outputs": [],
   "source": []
  },
  {
   "cell_type": "code",
   "execution_count": null,
   "id": "f0bd6e36-9742-4938-bc4f-36752ae73f2c",
   "metadata": {},
   "outputs": [],
   "source": []
  }
 ],
 "metadata": {
  "kernelspec": {
   "display_name": "Python 3 (ipykernel)",
   "language": "python",
   "name": "python3"
  },
  "language_info": {
   "codemirror_mode": {
    "name": "ipython",
    "version": 3
   },
   "file_extension": ".py",
   "mimetype": "text/x-python",
   "name": "python",
   "nbconvert_exporter": "python",
   "pygments_lexer": "ipython3",
   "version": "3.12.2"
  }
 },
 "nbformat": 4,
 "nbformat_minor": 5
}
