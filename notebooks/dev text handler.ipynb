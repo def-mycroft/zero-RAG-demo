{
 "cells": [
  {
   "cell_type": "code",
   "execution_count": 1,
   "id": "f3c2bbcf-35e2-4979-8095-adf5cfb0663e",
   "metadata": {},
   "outputs": [],
   "source": [
    "%load_ext autoreload\n",
    "%autoreload 2"
   ]
  },
  {
   "cell_type": "code",
   "execution_count": 2,
   "id": "7bbc53b0-dc2c-46a8-8413-6b43be2246ee",
   "metadata": {},
   "outputs": [],
   "source": [
    "from zero_rag.imports import *"
   ]
  },
  {
   "cell_type": "code",
   "execution_count": 3,
   "id": "d5606ba5-ced3-48ac-93aa-a7343571b68c",
   "metadata": {},
   "outputs": [],
   "source": [
    "from zero_rag.text_handler import TextHandler"
   ]
  },
  {
   "cell_type": "code",
   "execution_count": 7,
   "id": "e4172927-c386-4725-bab4-ec389ea487d9",
   "metadata": {},
   "outputs": [
    {
     "name": "stdout",
     "output_type": "stream",
     "text": [
      "do not have embeddings, re-creating (probably desirable). \n",
      "wrote '/l/pdfs/txt/embeddings.pkl'\n"
     ]
    }
   ],
   "source": [
    "t = TextHandler(path_text_input='/l/pdfs/txt/')"
   ]
  },
  {
   "cell_type": "code",
   "execution_count": 14,
   "id": "afdcccdc-57b9-4b0b-b68b-c8c4a08ad4a4",
   "metadata": {},
   "outputs": [],
   "source": [
    "query = 'supply chain'\n",
    "x = t.retrieve_relevant_chunks(query, n=15)"
   ]
  },
  {
   "cell_type": "code",
   "execution_count": 15,
   "id": "545d59c5-09eb-4ddb-a025-f4f73ae34060",
   "metadata": {},
   "outputs": [],
   "source": [
    "with open('/l/tmp/data.txt', 'w') as f:\n",
    "    f.write('\\n'.join(x))"
   ]
  },
  {
   "cell_type": "code",
   "execution_count": null,
   "id": "efc54dc3-63cb-4bc0-aa87-4900a5ae0e4a",
   "metadata": {},
   "outputs": [],
   "source": []
  },
  {
   "cell_type": "code",
   "execution_count": null,
   "id": "1aec7733-f0b8-49d2-a200-512774fa6028",
   "metadata": {},
   "outputs": [],
   "source": []
  },
  {
   "cell_type": "code",
   "execution_count": null,
   "id": "f0bd6e36-9742-4938-bc4f-36752ae73f2c",
   "metadata": {},
   "outputs": [],
   "source": []
  }
 ],
 "metadata": {
  "kernelspec": {
   "display_name": "Python 3 (ipykernel)",
   "language": "python",
   "name": "python3"
  },
  "language_info": {
   "codemirror_mode": {
    "name": "ipython",
    "version": 3
   },
   "file_extension": ".py",
   "mimetype": "text/x-python",
   "name": "python",
   "nbconvert_exporter": "python",
   "pygments_lexer": "ipython3",
   "version": "3.12.2"
  }
 },
 "nbformat": 4,
 "nbformat_minor": 5
}
